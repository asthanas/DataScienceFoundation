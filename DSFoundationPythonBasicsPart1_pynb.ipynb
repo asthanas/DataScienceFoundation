{
  "nbformat": 4,
  "nbformat_minor": 0,
  "metadata": {
    "colab": {
      "name": "DSFoundationPythonBasicsPart1.pynb",
      "provenance": [],
      "collapsed_sections": [],
      "authorship_tag": "ABX9TyPtS0f3ZEGhrl2RvIik+qNk",
      "include_colab_link": true
    },
    "kernelspec": {
      "name": "python3",
      "display_name": "Python 3"
    }
  },
  "cells": [
    {
      "cell_type": "markdown",
      "metadata": {
        "id": "view-in-github",
        "colab_type": "text"
      },
      "source": [
        "<a href=\"https://colab.research.google.com/github/asthanas/DataScienceFoundation/blob/master/DSFoundationPythonBasicsPart1_pynb.ipynb\" target=\"_parent\"><img src=\"https://colab.research.google.com/assets/colab-badge.svg\" alt=\"Open In Colab\"/></a>"
      ]
    },
    {
      "cell_type": "markdown",
      "metadata": {
        "id": "aLn4OhSNk9yN",
        "colab_type": "text"
      },
      "source": [
        "# **Python Basics  - Data Science foundation**\n",
        "Part 1\n",
        "\n"
      ]
    },
    {
      "cell_type": "markdown",
      "metadata": {
        "id": "reNnTandDgtA",
        "colab_type": "text"
      },
      "source": [
        "\n",
        "**IPython notebook**\n",
        "\n",
        "IPython is a software package in Python that serves as a research notebook. IPython has a seamless interface using which you can write notes as well as perform data analysis in the same file. The data analysis part allows you to write the code and run it from within the notebook itself. The results also are displayed in the notebook. Among other things, IPython provides:\n",
        "\n",
        "1. An interactive shell\n",
        "2. Notebook that is browser based. The notebook supports text, code, expressions, graphs and interactive data visualization, embed images and videos, and also links to web pages on the Internet. \n",
        "3. Tools for parallel computing.\n",
        "4. Import external code and run it.\n",
        "5. Export the notebook in a number of formats.\n",
        "\n",
        "**Creating an IPython notebook**\n",
        "\n",
        "In order to create an IPython notebook, choose File -> New -> IPython notebook. \n",
        "\n",
        "Hitting Alt+Enter creates a new cell. A cell is nothing but a placeholder where you can write some text or execute code. \n",
        "To run press Shift+Enter"
      ]
    },
    {
      "cell_type": "markdown",
      "metadata": {
        "id": "nmuO66HdFKvz",
        "colab_type": "text"
      },
      "source": [
        "***Set the working directory so that we dont have to think about path problem***"
      ]
    },
    {
      "cell_type": "code",
      "metadata": {
        "id": "tO3CqN1uFiZO",
        "colab_type": "code",
        "outputId": "db684964-c4cf-4121-82c7-89500bde2822",
        "colab": {
          "base_uri": "https://localhost:8080/",
          "height": 34
        }
      },
      "source": [
        "import os #This is calling a pre-defined library with some standard capabilities which are getting imported\n",
        "os.getcwd() #get the current working directory"
      ],
      "execution_count": 0,
      "outputs": [
        {
          "output_type": "execute_result",
          "data": {
            "text/plain": [
              "'/content'"
            ]
          },
          "metadata": {
            "tags": []
          },
          "execution_count": 1
        }
      ]
    },
    {
      "cell_type": "code",
      "metadata": {
        "id": "fGIUsAmKFxXw",
        "colab_type": "code",
        "colab": {}
      },
      "source": [
        "your_local_path = os.getcwd()"
      ],
      "execution_count": 0,
      "outputs": []
    },
    {
      "cell_type": "code",
      "metadata": {
        "id": "uw1J6yi0mjZn",
        "colab_type": "code",
        "outputId": "c825fe50-fb4c-4d68-ead2-90a2f45c377f",
        "colab": {
          "base_uri": "https://localhost:8080/",
          "height": 34
        }
      },
      "source": [
        "print(\"Hey this is Kaption Cryption\")"
      ],
      "execution_count": 0,
      "outputs": [
        {
          "output_type": "stream",
          "text": [
            "Hey this is Kaption Cryption\n"
          ],
          "name": "stdout"
        }
      ]
    },
    {
      "cell_type": "code",
      "metadata": {
        "id": "HnRAb1fxL_XD",
        "colab_type": "code",
        "outputId": "4ea84abd-0867-4fa0-98ab-a06265d1dad7",
        "colab": {
          "base_uri": "https://localhost:8080/",
          "height": 51
        }
      },
      "source": [
        "print(\"An example of code execution in Python\")\n",
        "22*45"
      ],
      "execution_count": 0,
      "outputs": [
        {
          "output_type": "stream",
          "text": [
            "An example of code execution in Python\n"
          ],
          "name": "stdout"
        },
        {
          "output_type": "execute_result",
          "data": {
            "text/plain": [
              "990"
            ]
          },
          "metadata": {
            "tags": []
          },
          "execution_count": 4
        }
      ]
    },
    {
      "cell_type": "code",
      "metadata": {
        "id": "cZBpdgAtuLq3",
        "colab_type": "code",
        "outputId": "035dbf48-e738-4d95-894f-86d95fb2352c",
        "colab": {
          "base_uri": "https://localhost:8080/",
          "height": 51
        }
      },
      "source": [
        "ls #get list of files"
      ],
      "execution_count": 0,
      "outputs": [
        {
          "output_type": "stream",
          "text": [
            "apple.py           capm_dem.txt  HelloWorld.py  \u001b[0m\u001b[01;34msample_data\u001b[0m/\n",
            "capm_dem_copy.txt  fruit.py      mymodule.py\n"
          ],
          "name": "stdout"
        }
      ]
    },
    {
      "cell_type": "markdown",
      "metadata": {
        "id": "UvH-YaREDgtF",
        "colab_type": "text"
      },
      "source": [
        "In order to find help on some concept, make use of ? If you want to find a function or make use of wildcard entry, make use of followed by ? A quickref command gives you a quick reference to the most commonly used commands in Python."
      ]
    },
    {
      "cell_type": "code",
      "metadata": {
        "id": "ynssU9I_DgtG",
        "colab_type": "code",
        "colab": {}
      },
      "source": [
        "print?"
      ],
      "execution_count": 0,
      "outputs": []
    },
    {
      "cell_type": "markdown",
      "metadata": {
        "id": "zPPR3GBUVsA8",
        "colab_type": "text"
      },
      "source": [
        "**How to search different functions within a package**"
      ]
    },
    {
      "cell_type": "code",
      "metadata": {
        "id": "MYeE7DTXVrsw",
        "colab_type": "code",
        "colab": {}
      },
      "source": [
        "import numpy as np\n",
        "np.*mean*?"
      ],
      "execution_count": 0,
      "outputs": []
    },
    {
      "cell_type": "markdown",
      "metadata": {
        "id": "jb_jdTd2DgtR",
        "colab_type": "text"
      },
      "source": [
        "Tab is a very handy feature in Python. It gives you a list of all the functions and commands that are associated with a package (such as NumPy). For example, if you type np. and then press tab, a dropdown will come up with the list of all the functions associate with np. By using this, you do not have to rememeber the functions specifics and can just use tab completion."
      ]
    },
    {
      "cell_type": "code",
      "metadata": {
        "id": "L5mImnBrDgtS",
        "colab_type": "code",
        "outputId": "a367c9c6-c329-4e0c-ea38-e77a251a14eb",
        "colab": {
          "base_uri": "https://localhost:8080/",
          "height": 130
        }
      },
      "source": [
        "np."
      ],
      "execution_count": 34,
      "outputs": [
        {
          "output_type": "error",
          "ename": "SyntaxError",
          "evalue": "ignored",
          "traceback": [
            "\u001b[0;36m  File \u001b[0;32m\"<ipython-input-34-df0eca0bfa5c>\"\u001b[0;36m, line \u001b[0;32m1\u001b[0m\n\u001b[0;31m    np.\u001b[0m\n\u001b[0m       ^\u001b[0m\n\u001b[0;31mSyntaxError\u001b[0m\u001b[0;31m:\u001b[0m invalid syntax\n"
          ]
        }
      ]
    },
    {
      "cell_type": "markdown",
      "metadata": {
        "id": "K065JEWwsD-X",
        "colab_type": "text"
      },
      "source": [
        "If you want to know the histroy of commands, make use of history command. This feature also allows you to extract code from a IPython notebook to a separate file."
      ]
    },
    {
      "cell_type": "code",
      "metadata": {
        "id": "YJAfApW8sHQL",
        "colab_type": "code",
        "colab": {}
      },
      "source": [
        "%history"
      ],
      "execution_count": 0,
      "outputs": []
    },
    {
      "cell_type": "markdown",
      "metadata": {
        "id": "xgM2qUPyZDsQ",
        "colab_type": "text"
      },
      "source": [
        "**Running External code in python**\n",
        "\n",
        "If you want to run external code files in Python, make use of %run command followed by the path of the file. IPython shell will execute the code and will display the results"
      ]
    },
    {
      "cell_type": "code",
      "metadata": {
        "id": "eb5d2UsdoLQN",
        "colab_type": "code",
        "colab": {}
      },
      "source": [
        "os.getcwd()\n",
        "your_local_path = os.getcwd()\n"
      ],
      "execution_count": 0,
      "outputs": []
    },
    {
      "cell_type": "code",
      "metadata": {
        "id": "YzShnUCjZI4D",
        "colab_type": "code",
        "outputId": "7143f23e-b1fc-4e4f-a165-e6cf308e85f5",
        "colab": {
          "base_uri": "https://localhost:8080/",
          "height": 51
        }
      },
      "source": [
        "filepath = os.path.join(your_local_path,\"HelloWorld.py\")\n",
        "print(filepath)\n",
        "%run $filepath # % has a magic function, they have standard functionality"
      ],
      "execution_count": 32,
      "outputs": [
        {
          "output_type": "stream",
          "text": [
            "/content/HelloWorld.py\n",
            "Hello World\n"
          ],
          "name": "stdout"
        }
      ]
    },
    {
      "cell_type": "code",
      "metadata": {
        "id": "h52UjJlJo7uO",
        "colab_type": "code",
        "colab": {
          "base_uri": "https://localhost:8080/",
          "height": 34
        },
        "outputId": "68b9b7e0-1966-48f6-b520-ab61fcb206b0"
      },
      "source": [
        "%run /content/HelloWorld.py"
      ],
      "execution_count": 33,
      "outputs": [
        {
          "output_type": "stream",
          "text": [
            "Hello World\n"
          ],
          "name": "stdout"
        }
      ]
    },
    {
      "cell_type": "markdown",
      "metadata": {
        "id": "5vVNH85mDgtf",
        "colab_type": "text"
      },
      "source": [
        "\n",
        "**Syntax Formalities**\n",
        "\n",
        "+ Python is <b>case sensitive</b>\n",
        "+ Python makes use of <b>whitespace</b> for code structuring and marking logical breaks in the code (In contrast to other programming languages that use braces)\n",
        "+ End of line marks end of a statement, so <b>does not require a semicolon at end of each statement</b>\n",
        "+ Whitespace at the beginning of the line is important. This is called <b>indentation</b>.\n",
        "+ Leading whitespace (spaces and tabs) at the beginning of the logical line is used to determine the <b>indentation level</b> of the logical line.\n",
        "+ Statements which go together must have the same indentation. Each such set of statements is called a <b>block</b>."
      ]
    },
    {
      "cell_type": "code",
      "metadata": {
        "id": "wMjiaL_WSq5N",
        "colab_type": "code",
        "colab": {
          "base_uri": "https://localhost:8080/",
          "height": 130
        },
        "outputId": "a677556b-0c0a-4122-f44b-5b9477ebd93d"
      },
      "source": [
        "i = 5\n",
        "  print ('Value is ', i) #Error ! Notice a single space at the start of line\n",
        "print('I repeat value is ', i)"
      ],
      "execution_count": 37,
      "outputs": [
        {
          "output_type": "error",
          "ename": "IndentationError",
          "evalue": "ignored",
          "traceback": [
            "\u001b[0;36m  File \u001b[0;32m\"<ipython-input-37-1a37330b3e49>\"\u001b[0;36m, line \u001b[0;32m2\u001b[0m\n\u001b[0;31m    print ('Value is ', i) #Error ! Notice a single space at the start of line\u001b[0m\n\u001b[0m    ^\u001b[0m\n\u001b[0;31mIndentationError\u001b[0m\u001b[0;31m:\u001b[0m unexpected indent\n"
          ]
        }
      ]
    },
    {
      "cell_type": "code",
      "metadata": {
        "id": "I4baJeJZTRha",
        "colab_type": "code",
        "colab": {
          "base_uri": "https://localhost:8080/",
          "height": 68
        },
        "outputId": "cc2424e7-0b5f-4bbb-a378-9d72f2166a24"
      },
      "source": [
        "x = 25\n",
        "y = 20\n",
        "print(x)\n",
        "if x>10:\n",
        "  print(x)\n",
        "  print(y)"
      ],
      "execution_count": 39,
      "outputs": [
        {
          "output_type": "stream",
          "text": [
            "25\n",
            "25\n",
            "20\n"
          ],
          "name": "stdout"
        }
      ]
    },
    {
      "cell_type": "markdown",
      "metadata": {
        "id": "Cj4WkS9bDgtz",
        "colab_type": "text"
      },
      "source": [
        "**Variables and Data Structures**\n",
        "\n",
        "+ Built-in data types:<br/>\n",
        "<b>Integer, Floating point, String, Boolean Values, Date and Time</b>\n",
        "\n",
        "+ Additional data structures:<br/>\n",
        "<b>Tuples, Lists, Dictionary</b>\n",
        "\n",
        "+ A variable is a name that refers to a value.\n",
        "+ No need to specify <b>type</b> to a variable; Python automatically assigns.\n"
      ]
    },
    {
      "cell_type": "code",
      "metadata": {
        "id": "3INHbPIGU1Rd",
        "colab_type": "code",
        "colab": {
          "base_uri": "https://localhost:8080/",
          "height": 102
        },
        "outputId": "ad83307d-147c-41db-f104-1427995630e9"
      },
      "source": [
        "counter = 100       # Integer Assignment\n",
        "miles   = 1000.0    # A Floating point Assignment\n",
        "name    = \"Saurabh\" # A String\n",
        "\n",
        "print(counter)\n",
        "print(miles)\n",
        "print(name)\n",
        "\n",
        "a = 1111122121212.0\n",
        "b = 2.0\n",
        "c = \"0\"\n",
        "d = \"2\"\n",
        "print(a + b) # Sum of Values\n",
        "print(c  + d)# Concatenating String"
      ],
      "execution_count": 41,
      "outputs": [
        {
          "output_type": "stream",
          "text": [
            "100\n",
            "1000.0\n",
            "Saurabh\n",
            "1111122121214.0\n",
            "02\n"
          ],
          "name": "stdout"
        }
      ]
    },
    {
      "cell_type": "markdown",
      "metadata": {
        "id": "NfQExBkvDgt3",
        "colab_type": "text"
      },
      "source": [
        "**Strings**\n",
        "\n",
        "+ Built-in <b>string class</b> named <b>\"str\"</b> with many handy features\n",
        "+ In addition to numerical data processing, Python has very strong string processing capabilities. \n",
        "+ <b>Subsets</b> of strings can be taken using the <b>slice operator ( [ ] and [ : ] )</b> with indexes starting at 0 in the beginning of the string and working their way from -1 at the end.\n",
        "+ The plus ( + ) sign is the string concatenation operator and the asterisk ( * ) is the repetition operator.\n",
        "+ Strings in Python are <b>immutable</b>. Unlike other datasets such as lists, you cannot manipulate individual string values. In order to do so, you have to take subsets of strings and form a new string. \n",
        "+ A string can be converted to a numerical type and vice versa (wherever applicable). Many a times, raw data, although numeric, is coded in string format. This feature provides a clean way to make sure all of the data is in numeric form.\n",
        "+ Strings are sequence of characters and can be <b>tokenized</b>.\n",
        "+ Strings and numbers can also be <b>formatted</b>.\n",
        "\n"
      ]
    },
    {
      "cell_type": "code",
      "metadata": {
        "id": "u5GHAPC5aYes",
        "colab_type": "code",
        "colab": {
          "base_uri": "https://localhost:8080/",
          "height": 119
        },
        "outputId": "461eb86e-4faf-4258-c231-aeb7dd3fab38"
      },
      "source": [
        "strr = 'Hello World'\n",
        "print(strr)\n",
        "print(strr[0])\n",
        "print(strr[2:6])\n",
        "print(strr[2:])\n",
        "print(strr*2)\n",
        "print(strr + \"Test\")"
      ],
      "execution_count": 47,
      "outputs": [
        {
          "output_type": "stream",
          "text": [
            "Hello World\n",
            "H\n",
            "llo \n",
            "llo World\n",
            "Hello WorldHello World\n",
            "Hello WorldTest\n"
          ],
          "name": "stdout"
        }
      ]
    },
    {
      "cell_type": "code",
      "metadata": {
        "id": "6sIv5KgIhCU3",
        "colab_type": "code",
        "colab": {
          "base_uri": "https://localhost:8080/",
          "height": 283
        },
        "outputId": "f1dcb6f2-f3ff-43b6-93de-ee4edb3f9651"
      },
      "source": [
        "strr=\"hello\"\n",
        "print(strr[-1])\n",
        "\n",
        "a = 'this is a string'\n",
        "b = a.replace('string','longer string')\n",
        "print (a)\n",
        "print (b)\n",
        "\n",
        "a = '20'\n",
        "anum = int(a) # Typecaste/Convert String '2' to Integer - Possible\n",
        "print(anum + anum)\n",
        "\n",
        "a = \"hi\"\n",
        "anum = int(a) # Typecaste/Convert String 'hi' to Integer - Not Possible\n",
        "print(anum)"
      ],
      "execution_count": 50,
      "outputs": [
        {
          "output_type": "stream",
          "text": [
            "o\n",
            "this is a string\n",
            "this is a longer string\n",
            "40\n"
          ],
          "name": "stdout"
        },
        {
          "output_type": "error",
          "ename": "ValueError",
          "evalue": "ignored",
          "traceback": [
            "\u001b[0;31m---------------------------------------------------------------------------\u001b[0m",
            "\u001b[0;31mValueError\u001b[0m                                Traceback (most recent call last)",
            "\u001b[0;32m<ipython-input-50-6b5060cbf417>\u001b[0m in \u001b[0;36m<module>\u001b[0;34m()\u001b[0m\n\u001b[1;32m     12\u001b[0m \u001b[0;34m\u001b[0m\u001b[0m\n\u001b[1;32m     13\u001b[0m \u001b[0ma\u001b[0m \u001b[0;34m=\u001b[0m \u001b[0;34m\"hi\"\u001b[0m\u001b[0;34m\u001b[0m\u001b[0;34m\u001b[0m\u001b[0m\n\u001b[0;32m---> 14\u001b[0;31m \u001b[0manum\u001b[0m \u001b[0;34m=\u001b[0m \u001b[0mint\u001b[0m\u001b[0;34m(\u001b[0m\u001b[0ma\u001b[0m\u001b[0;34m)\u001b[0m\u001b[0;34m\u001b[0m\u001b[0;34m\u001b[0m\u001b[0m\n\u001b[0m\u001b[1;32m     15\u001b[0m \u001b[0mprint\u001b[0m\u001b[0;34m(\u001b[0m\u001b[0manum\u001b[0m\u001b[0;34m)\u001b[0m\u001b[0;34m\u001b[0m\u001b[0;34m\u001b[0m\u001b[0m\n",
            "\u001b[0;31mValueError\u001b[0m: invalid literal for int() with base 10: 'hi'"
          ]
        }
      ]
    }
  ]
}