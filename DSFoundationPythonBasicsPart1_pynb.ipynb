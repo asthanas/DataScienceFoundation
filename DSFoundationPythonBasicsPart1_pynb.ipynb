{
  "nbformat": 4,
  "nbformat_minor": 0,
  "metadata": {
    "colab": {
      "name": "DSFoundationPythonBasicsPart1.pynb",
      "provenance": [],
      "collapsed_sections": [],
      "authorship_tag": "ABX9TyOqsEw3J+EvjoUoqOaVLsm3",
      "include_colab_link": true
    },
    "kernelspec": {
      "name": "python3",
      "display_name": "Python 3"
    }
  },
  "cells": [
    {
      "cell_type": "markdown",
      "metadata": {
        "id": "view-in-github",
        "colab_type": "text"
      },
      "source": [
        "<a href=\"https://colab.research.google.com/github/asthanas/DataScienceFoundation/blob/master/DSFoundationPythonBasicsPart1_pynb.ipynb\" target=\"_parent\"><img src=\"https://colab.research.google.com/assets/colab-badge.svg\" alt=\"Open In Colab\"/></a>"
      ]
    },
    {
      "cell_type": "markdown",
      "metadata": {
        "id": "aLn4OhSNk9yN",
        "colab_type": "text"
      },
      "source": [
        "# **Python Basics  - Data Science foundation**\n",
        "Part 1\n",
        "\n"
      ]
    },
    {
      "cell_type": "markdown",
      "metadata": {
        "id": "reNnTandDgtA",
        "colab_type": "text"
      },
      "source": [
        "\n",
        "**IPython notebook**\n",
        "\n",
        "IPython is a software package in Python that serves as a research notebook. IPython has a seamless interface using which you can write notes as well as perform data analysis in the same file. The data analysis part allows you to write the code and run it from within the notebook itself. The results also are displayed in the notebook. Among other things, IPython provides:\n",
        "\n",
        "1. An interactive shell\n",
        "2. Notebook that is browser based. The notebook supports text, code, expressions, graphs and interactive data visualization, embed images and videos, and also links to web pages on the Internet. \n",
        "3. Tools for parallel computing.\n",
        "4. Import external code and run it.\n",
        "5. Export the notebook in a number of formats.\n",
        "\n",
        "**Creating an IPython notebook**\n",
        "\n",
        "In order to create an IPython notebook, choose File -> New -> IPython notebook. \n",
        "\n",
        "Hitting Alt+Enter creates a new cell. A cell is nothing but a placeholder where you can write some text or execute code. \n",
        "To run press Shift+Enter"
      ]
    },
    {
      "cell_type": "markdown",
      "metadata": {
        "id": "nmuO66HdFKvz",
        "colab_type": "text"
      },
      "source": [
        "***Set the working directory so that we dont have to think about path problem***"
      ]
    },
    {
      "cell_type": "code",
      "metadata": {
        "id": "tO3CqN1uFiZO",
        "colab_type": "code",
        "outputId": "db684964-c4cf-4121-82c7-89500bde2822",
        "colab": {
          "base_uri": "https://localhost:8080/",
          "height": 34
        }
      },
      "source": [
        "import os #This is calling a pre-defined library with some standard capabilities which are getting imported\n",
        "os.getcwd() #get the current working directory"
      ],
      "execution_count": 0,
      "outputs": [
        {
          "output_type": "execute_result",
          "data": {
            "text/plain": [
              "'/content'"
            ]
          },
          "metadata": {
            "tags": []
          },
          "execution_count": 1
        }
      ]
    },
    {
      "cell_type": "code",
      "metadata": {
        "id": "fGIUsAmKFxXw",
        "colab_type": "code",
        "colab": {}
      },
      "source": [
        "your_local_path = os.getcwd()"
      ],
      "execution_count": 0,
      "outputs": []
    },
    {
      "cell_type": "code",
      "metadata": {
        "id": "uw1J6yi0mjZn",
        "colab_type": "code",
        "outputId": "c825fe50-fb4c-4d68-ead2-90a2f45c377f",
        "colab": {
          "base_uri": "https://localhost:8080/",
          "height": 34
        }
      },
      "source": [
        "print(\"Hey this is Kaption Cryption\")"
      ],
      "execution_count": 0,
      "outputs": [
        {
          "output_type": "stream",
          "text": [
            "Hey this is Kaption Cryption\n"
          ],
          "name": "stdout"
        }
      ]
    },
    {
      "cell_type": "code",
      "metadata": {
        "id": "HnRAb1fxL_XD",
        "colab_type": "code",
        "outputId": "4ea84abd-0867-4fa0-98ab-a06265d1dad7",
        "colab": {
          "base_uri": "https://localhost:8080/",
          "height": 51
        }
      },
      "source": [
        "print(\"An example of code execution in Python\")\n",
        "22*45"
      ],
      "execution_count": 0,
      "outputs": [
        {
          "output_type": "stream",
          "text": [
            "An example of code execution in Python\n"
          ],
          "name": "stdout"
        },
        {
          "output_type": "execute_result",
          "data": {
            "text/plain": [
              "990"
            ]
          },
          "metadata": {
            "tags": []
          },
          "execution_count": 4
        }
      ]
    },
    {
      "cell_type": "code",
      "metadata": {
        "id": "cZBpdgAtuLq3",
        "colab_type": "code",
        "outputId": "035dbf48-e738-4d95-894f-86d95fb2352c",
        "colab": {
          "base_uri": "https://localhost:8080/",
          "height": 51
        }
      },
      "source": [
        "ls #get list of files"
      ],
      "execution_count": 0,
      "outputs": [
        {
          "output_type": "stream",
          "text": [
            "apple.py           capm_dem.txt  HelloWorld.py  \u001b[0m\u001b[01;34msample_data\u001b[0m/\n",
            "capm_dem_copy.txt  fruit.py      mymodule.py\n"
          ],
          "name": "stdout"
        }
      ]
    },
    {
      "cell_type": "markdown",
      "metadata": {
        "id": "UvH-YaREDgtF",
        "colab_type": "text"
      },
      "source": [
        "In order to find help on some concept, make use of ? If you want to find a function or make use of wildcard entry, make use of followed by ? A quickref command gives you a quick reference to the most commonly used commands in Python."
      ]
    },
    {
      "cell_type": "code",
      "metadata": {
        "id": "ynssU9I_DgtG",
        "colab_type": "code",
        "colab": {}
      },
      "source": [
        "print?"
      ],
      "execution_count": 0,
      "outputs": []
    },
    {
      "cell_type": "markdown",
      "metadata": {
        "id": "zPPR3GBUVsA8",
        "colab_type": "text"
      },
      "source": [
        "**How to search different functions within a package**"
      ]
    },
    {
      "cell_type": "code",
      "metadata": {
        "id": "MYeE7DTXVrsw",
        "colab_type": "code",
        "colab": {}
      },
      "source": [
        "import numpy as np\n",
        "np.*mean*?"
      ],
      "execution_count": 0,
      "outputs": []
    },
    {
      "cell_type": "markdown",
      "metadata": {
        "id": "jb_jdTd2DgtR",
        "colab_type": "text"
      },
      "source": [
        "Tab is a very handy feature in Python. It gives you a list of all the functions and commands that are associated with a package (such as NumPy). For example, if you type np. and then press tab, a dropdown will come up with the list of all the functions associate with np. By using this, you do not have to rememeber the functions specifics and can just use tab completion."
      ]
    },
    {
      "cell_type": "code",
      "metadata": {
        "id": "L5mImnBrDgtS",
        "colab_type": "code",
        "outputId": "a367c9c6-c329-4e0c-ea38-e77a251a14eb",
        "colab": {
          "base_uri": "https://localhost:8080/",
          "height": 130
        }
      },
      "source": [
        "np."
      ],
      "execution_count": 0,
      "outputs": [
        {
          "output_type": "error",
          "ename": "SyntaxError",
          "evalue": "ignored",
          "traceback": [
            "\u001b[0;36m  File \u001b[0;32m\"<ipython-input-34-df0eca0bfa5c>\"\u001b[0;36m, line \u001b[0;32m1\u001b[0m\n\u001b[0;31m    np.\u001b[0m\n\u001b[0m       ^\u001b[0m\n\u001b[0;31mSyntaxError\u001b[0m\u001b[0;31m:\u001b[0m invalid syntax\n"
          ]
        }
      ]
    },
    {
      "cell_type": "markdown",
      "metadata": {
        "id": "K065JEWwsD-X",
        "colab_type": "text"
      },
      "source": [
        "If you want to know the histroy of commands, make use of history command. This feature also allows you to extract code from a IPython notebook to a separate file."
      ]
    },
    {
      "cell_type": "code",
      "metadata": {
        "id": "YJAfApW8sHQL",
        "colab_type": "code",
        "colab": {}
      },
      "source": [
        "%history"
      ],
      "execution_count": 0,
      "outputs": []
    },
    {
      "cell_type": "markdown",
      "metadata": {
        "id": "xgM2qUPyZDsQ",
        "colab_type": "text"
      },
      "source": [
        "**Running External code in python**\n",
        "\n",
        "If you want to run external code files in Python, make use of %run command followed by the path of the file. IPython shell will execute the code and will display the results"
      ]
    },
    {
      "cell_type": "code",
      "metadata": {
        "id": "eb5d2UsdoLQN",
        "colab_type": "code",
        "colab": {}
      },
      "source": [
        "os.getcwd()\n",
        "your_local_path = os.getcwd()\n"
      ],
      "execution_count": 0,
      "outputs": []
    },
    {
      "cell_type": "code",
      "metadata": {
        "id": "YzShnUCjZI4D",
        "colab_type": "code",
        "outputId": "7143f23e-b1fc-4e4f-a165-e6cf308e85f5",
        "colab": {
          "base_uri": "https://localhost:8080/",
          "height": 51
        }
      },
      "source": [
        "filepath = os.path.join(your_local_path,\"HelloWorld.py\")\n",
        "print(filepath)\n",
        "%run $filepath # % has a magic function, they have standard functionality"
      ],
      "execution_count": 0,
      "outputs": [
        {
          "output_type": "stream",
          "text": [
            "/content/HelloWorld.py\n",
            "Hello World\n"
          ],
          "name": "stdout"
        }
      ]
    },
    {
      "cell_type": "code",
      "metadata": {
        "id": "h52UjJlJo7uO",
        "colab_type": "code",
        "outputId": "68b9b7e0-1966-48f6-b520-ab61fcb206b0",
        "colab": {
          "base_uri": "https://localhost:8080/",
          "height": 34
        }
      },
      "source": [
        "%run /content/HelloWorld.py"
      ],
      "execution_count": 0,
      "outputs": [
        {
          "output_type": "stream",
          "text": [
            "Hello World\n"
          ],
          "name": "stdout"
        }
      ]
    },
    {
      "cell_type": "markdown",
      "metadata": {
        "id": "5vVNH85mDgtf",
        "colab_type": "text"
      },
      "source": [
        "\n",
        "**Syntax Formalities**\n",
        "\n",
        "+ Python is <b>case sensitive</b>\n",
        "+ Python makes use of <b>whitespace</b> for code structuring and marking logical breaks in the code (In contrast to other programming languages that use braces)\n",
        "+ End of line marks end of a statement, so <b>does not require a semicolon at end of each statement</b>\n",
        "+ Whitespace at the beginning of the line is important. This is called <b>indentation</b>.\n",
        "+ Leading whitespace (spaces and tabs) at the beginning of the logical line is used to determine the <b>indentation level</b> of the logical line.\n",
        "+ Statements which go together must have the same indentation. Each such set of statements is called a <b>block</b>."
      ]
    },
    {
      "cell_type": "code",
      "metadata": {
        "id": "wMjiaL_WSq5N",
        "colab_type": "code",
        "outputId": "a677556b-0c0a-4122-f44b-5b9477ebd93d",
        "colab": {
          "base_uri": "https://localhost:8080/",
          "height": 130
        }
      },
      "source": [
        "i = 5\n",
        "  print ('Value is ', i) #Error ! Notice a single space at the start of line\n",
        "print('I repeat value is ', i)"
      ],
      "execution_count": 0,
      "outputs": [
        {
          "output_type": "error",
          "ename": "IndentationError",
          "evalue": "ignored",
          "traceback": [
            "\u001b[0;36m  File \u001b[0;32m\"<ipython-input-37-1a37330b3e49>\"\u001b[0;36m, line \u001b[0;32m2\u001b[0m\n\u001b[0;31m    print ('Value is ', i) #Error ! Notice a single space at the start of line\u001b[0m\n\u001b[0m    ^\u001b[0m\n\u001b[0;31mIndentationError\u001b[0m\u001b[0;31m:\u001b[0m unexpected indent\n"
          ]
        }
      ]
    },
    {
      "cell_type": "code",
      "metadata": {
        "id": "I4baJeJZTRha",
        "colab_type": "code",
        "outputId": "cc2424e7-0b5f-4bbb-a378-9d72f2166a24",
        "colab": {
          "base_uri": "https://localhost:8080/",
          "height": 68
        }
      },
      "source": [
        "x = 25\n",
        "y = 20\n",
        "print(x)\n",
        "if x>10:\n",
        "  print(x)\n",
        "  print(y)"
      ],
      "execution_count": 0,
      "outputs": [
        {
          "output_type": "stream",
          "text": [
            "25\n",
            "25\n",
            "20\n"
          ],
          "name": "stdout"
        }
      ]
    },
    {
      "cell_type": "markdown",
      "metadata": {
        "id": "Cj4WkS9bDgtz",
        "colab_type": "text"
      },
      "source": [
        "**Variables and Data Structures**\n",
        "\n",
        "+ Built-in data types:<br/>\n",
        "<b>Integer, Floating point, String, Boolean Values, Date and Time</b>\n",
        "\n",
        "+ Additional data structures:<br/>\n",
        "<b>Tuples, Lists, Dictionary</b>\n",
        "\n",
        "+ A variable is a name that refers to a value.\n",
        "+ No need to specify <b>type</b> to a variable; Python automatically assigns.\n"
      ]
    },
    {
      "cell_type": "code",
      "metadata": {
        "id": "3INHbPIGU1Rd",
        "colab_type": "code",
        "outputId": "ad83307d-147c-41db-f104-1427995630e9",
        "colab": {
          "base_uri": "https://localhost:8080/",
          "height": 102
        }
      },
      "source": [
        "counter = 100       # Integer Assignment\n",
        "miles   = 1000.0    # A Floating point Assignment\n",
        "name    = \"Saurabh\" # A String\n",
        "\n",
        "print(counter)\n",
        "print(miles)\n",
        "print(name)\n",
        "\n",
        "a = 1111122121212.0\n",
        "b = 2.0\n",
        "c = \"0\"\n",
        "d = \"2\"\n",
        "print(a + b) # Sum of Values\n",
        "print(c  + d)# Concatenating String"
      ],
      "execution_count": 0,
      "outputs": [
        {
          "output_type": "stream",
          "text": [
            "100\n",
            "1000.0\n",
            "Saurabh\n",
            "1111122121214.0\n",
            "02\n"
          ],
          "name": "stdout"
        }
      ]
    },
    {
      "cell_type": "markdown",
      "metadata": {
        "id": "NfQExBkvDgt3",
        "colab_type": "text"
      },
      "source": [
        "**Strings**\n",
        "\n",
        "+ Built-in <b>string class</b> named <b>\"str\"</b> with many handy features\n",
        "+ In addition to numerical data processing, Python has very strong string processing capabilities. \n",
        "+ <b>Subsets</b> of strings can be taken using the <b>slice operator ( [ ] and [ : ] )</b> with indexes starting at 0 in the beginning of the string and working their way from -1 at the end.\n",
        "+ The plus ( + ) sign is the string concatenation operator and the asterisk ( * ) is the repetition operator.\n",
        "+ Strings in Python are <b>immutable</b>. Unlike other datasets such as lists, you cannot manipulate individual string values. In order to do so, you have to take subsets of strings and form a new string. \n",
        "+ A string can be converted to a numerical type and vice versa (wherever applicable). Many a times, raw data, although numeric, is coded in string format. This feature provides a clean way to make sure all of the data is in numeric form.\n",
        "+ Strings are sequence of characters and can be <b>tokenized</b>.\n",
        "+ Strings and numbers can also be <b>formatted</b>.\n",
        "\n"
      ]
    },
    {
      "cell_type": "code",
      "metadata": {
        "id": "u5GHAPC5aYes",
        "colab_type": "code",
        "outputId": "461eb86e-4faf-4258-c231-aeb7dd3fab38",
        "colab": {
          "base_uri": "https://localhost:8080/",
          "height": 119
        }
      },
      "source": [
        "strr = 'Hello World'\n",
        "print(strr)\n",
        "print(strr[0])\n",
        "print(strr[2:6])\n",
        "print(strr[2:])\n",
        "print(strr*2)\n",
        "print(strr + \"Test\")"
      ],
      "execution_count": 0,
      "outputs": [
        {
          "output_type": "stream",
          "text": [
            "Hello World\n",
            "H\n",
            "llo \n",
            "llo World\n",
            "Hello WorldHello World\n",
            "Hello WorldTest\n"
          ],
          "name": "stdout"
        }
      ]
    },
    {
      "cell_type": "code",
      "metadata": {
        "id": "vImC85PRLaoG",
        "colab_type": "code",
        "colab": {
          "base_uri": "https://localhost:8080/",
          "height": 34
        },
        "outputId": "afa9948f-4762-447c-cd39-66ea64c14535"
      },
      "source": [
        "s = \"does python has opps concepts ?\"\n",
        "s[4:]"
      ],
      "execution_count": 17,
      "outputs": [
        {
          "output_type": "execute_result",
          "data": {
            "text/plain": [
              "' python has opps concepts ?'"
            ]
          },
          "metadata": {
            "tags": []
          },
          "execution_count": 17
        }
      ]
    },
    {
      "cell_type": "code",
      "metadata": {
        "id": "4GI8t4LeL3Bp",
        "colab_type": "code",
        "colab": {
          "base_uri": "https://localhost:8080/",
          "height": 34
        },
        "outputId": "f7831b3a-6781-43d4-cc27-6e929db1570e"
      },
      "source": [
        "len(s.split())"
      ],
      "execution_count": 18,
      "outputs": [
        {
          "output_type": "execute_result",
          "data": {
            "text/plain": [
              "6"
            ]
          },
          "metadata": {
            "tags": []
          },
          "execution_count": 18
        }
      ]
    },
    {
      "cell_type": "code",
      "metadata": {
        "id": "6sIv5KgIhCU3",
        "colab_type": "code",
        "outputId": "f1dcb6f2-f3ff-43b6-93de-ee4edb3f9651",
        "colab": {
          "base_uri": "https://localhost:8080/",
          "height": 283
        }
      },
      "source": [
        "strr=\"hello\"\n",
        "print(strr[-1])\n",
        "\n",
        "a = 'this is a string'\n",
        "b = a.replace('string','longer string')\n",
        "print (a)\n",
        "print (b)\n",
        "\n",
        "a = '20'\n",
        "anum = int(a) # Typecaste/Convert String '2' to Integer - Possible\n",
        "print(anum + anum)\n",
        "\n",
        "a = \"hi\"\n",
        "anum = int(a) # Typecaste/Convert String 'hi' to Integer - Not Possible\n",
        "print(anum)"
      ],
      "execution_count": 0,
      "outputs": [
        {
          "output_type": "stream",
          "text": [
            "o\n",
            "this is a string\n",
            "this is a longer string\n",
            "40\n"
          ],
          "name": "stdout"
        },
        {
          "output_type": "error",
          "ename": "ValueError",
          "evalue": "ignored",
          "traceback": [
            "\u001b[0;31m---------------------------------------------------------------------------\u001b[0m",
            "\u001b[0;31mValueError\u001b[0m                                Traceback (most recent call last)",
            "\u001b[0;32m<ipython-input-50-6b5060cbf417>\u001b[0m in \u001b[0;36m<module>\u001b[0;34m()\u001b[0m\n\u001b[1;32m     12\u001b[0m \u001b[0;34m\u001b[0m\u001b[0m\n\u001b[1;32m     13\u001b[0m \u001b[0ma\u001b[0m \u001b[0;34m=\u001b[0m \u001b[0;34m\"hi\"\u001b[0m\u001b[0;34m\u001b[0m\u001b[0;34m\u001b[0m\u001b[0m\n\u001b[0;32m---> 14\u001b[0;31m \u001b[0manum\u001b[0m \u001b[0;34m=\u001b[0m \u001b[0mint\u001b[0m\u001b[0;34m(\u001b[0m\u001b[0ma\u001b[0m\u001b[0;34m)\u001b[0m\u001b[0;34m\u001b[0m\u001b[0;34m\u001b[0m\u001b[0m\n\u001b[0m\u001b[1;32m     15\u001b[0m \u001b[0mprint\u001b[0m\u001b[0;34m(\u001b[0m\u001b[0manum\u001b[0m\u001b[0;34m)\u001b[0m\u001b[0;34m\u001b[0m\u001b[0;34m\u001b[0m\u001b[0m\n",
            "\u001b[0;31mValueError\u001b[0m: invalid literal for int() with base 10: 'hi'"
          ]
        }
      ]
    },
    {
      "cell_type": "code",
      "metadata": {
        "id": "AQchtj6ujIBC",
        "colab_type": "code",
        "outputId": "4af79b49-a2b5-4c5e-d8bc-9fd4c11560db",
        "colab": {
          "base_uri": "https://localhost:8080/",
          "height": 51
        }
      },
      "source": [
        "a = \"hi\"\n",
        "print (a)\n",
        "print (len(a))"
      ],
      "execution_count": 0,
      "outputs": [
        {
          "output_type": "stream",
          "text": [
            "hi\n",
            "2\n"
          ],
          "name": "stdout"
        }
      ]
    },
    {
      "cell_type": "code",
      "metadata": {
        "id": "Hqe_pobCke8g",
        "colab_type": "code",
        "outputId": "ed55dcfc-a6ca-4f04-c005-6cf0d9c203ef",
        "colab": {
          "base_uri": "https://localhost:8080/",
          "height": 164
        }
      },
      "source": [
        "a + len(a)"
      ],
      "execution_count": 0,
      "outputs": [
        {
          "output_type": "error",
          "ename": "TypeError",
          "evalue": "ignored",
          "traceback": [
            "\u001b[0;31m---------------------------------------------------------------------------\u001b[0m",
            "\u001b[0;31mTypeError\u001b[0m                                 Traceback (most recent call last)",
            "\u001b[0;32m<ipython-input-53-d6fb917a5421>\u001b[0m in \u001b[0;36m<module>\u001b[0;34m()\u001b[0m\n\u001b[0;32m----> 1\u001b[0;31m \u001b[0ma\u001b[0m \u001b[0;34m+\u001b[0m \u001b[0mlen\u001b[0m\u001b[0;34m(\u001b[0m\u001b[0ma\u001b[0m\u001b[0;34m)\u001b[0m\u001b[0;34m\u001b[0m\u001b[0;34m\u001b[0m\u001b[0m\n\u001b[0m",
            "\u001b[0;31mTypeError\u001b[0m: must be str, not int"
          ]
        }
      ]
    },
    {
      "cell_type": "code",
      "metadata": {
        "id": "E6UDBic3jOp-",
        "colab_type": "code",
        "outputId": "0263d803-9504-4b09-ff0e-02dae51f642b",
        "colab": {
          "base_uri": "https://localhost:8080/",
          "height": 34
        }
      },
      "source": [
        "a + str(len(a)) # Convert to String so that concatenation works"
      ],
      "execution_count": 0,
      "outputs": [
        {
          "output_type": "execute_result",
          "data": {
            "text/plain": [
              "'hi2'"
            ]
          },
          "metadata": {
            "tags": []
          },
          "execution_count": 52
        }
      ]
    },
    {
      "cell_type": "code",
      "metadata": {
        "id": "8S2gnnPqkisF",
        "colab_type": "code",
        "outputId": "13bc44d3-2fb5-4606-f8f0-17e384c48b2a",
        "colab": {
          "base_uri": "https://localhost:8080/",
          "height": 51
        }
      },
      "source": [
        "#Let us see how to create formatted output\n",
        "string = \"This is python\"\n",
        "strlist = list(string)\n",
        "print(strlist)\n",
        "\n",
        "format = '%.2f %s is $%d' #Let us visualize the formatting '%.2f %s is $%d' is like Float String Integer\n",
        "format %(4.5555, 'Argentine Pesos', 1)\n"
      ],
      "execution_count": 4,
      "outputs": [
        {
          "output_type": "stream",
          "text": [
            "['T', 'h', 'i', 's', ' ', 'i', 's', ' ', 'p', 'y', 't', 'h', 'o', 'n']\n"
          ],
          "name": "stdout"
        },
        {
          "output_type": "execute_result",
          "data": {
            "text/plain": [
              "'4.56 Argentine Pesos is $1'"
            ]
          },
          "metadata": {
            "tags": []
          },
          "execution_count": 4
        }
      ]
    },
    {
      "cell_type": "code",
      "metadata": {
        "id": "x5Y5F5miz8fo",
        "colab_type": "code",
        "colab": {
          "base_uri": "https://localhost:8080/",
          "height": 34
        },
        "outputId": "eb7462a4-985b-455a-ff9c-9085c4a67671"
      },
      "source": [
        "print ('This is an example to show , how much currrency is valued , for ex: %.2f %s is Dollar %d'%(199.50,'Argentine Pesos',10))"
      ],
      "execution_count": 22,
      "outputs": [
        {
          "output_type": "stream",
          "text": [
            "This is an example to show , how much currrency is valued , for ex: 199.50 Argentine Pesos is Dollar 10\n"
          ],
          "name": "stdout"
        }
      ]
    },
    {
      "cell_type": "code",
      "metadata": {
        "id": "vjiNzKKklI-A",
        "colab_type": "code",
        "colab": {
          "base_uri": "https://localhost:8080/",
          "height": 102
        },
        "outputId": "fbd043d2-8f04-4159-a95a-6c053edc2de0"
      },
      "source": [
        "print (string.count('s'))\n",
        "print (string.split(' '))\n",
        "print (string.upper())\n",
        "print (string.lower())\n",
        "print (string.swapcase())"
      ],
      "execution_count": 9,
      "outputs": [
        {
          "output_type": "stream",
          "text": [
            "2\n",
            "['This', 'is', 'python']\n",
            "THIS IS PYTHON\n",
            "this is python\n",
            "tHIS IS PYTHON\n"
          ],
          "name": "stdout"
        }
      ]
    },
    {
      "cell_type": "code",
      "metadata": {
        "id": "B1GjBumYnexS",
        "colab_type": "code",
        "colab": {
          "base_uri": "https://localhost:8080/",
          "height": 119
        },
        "outputId": "4fbb1a34-2cdd-4973-e4f7-041df542b9bf"
      },
      "source": [
        "str1 = \"  This is a bright sunny day   \"\n",
        "print (str1.rstrip())\n",
        "print (str1.lstrip())\n",
        "print (str1.strip())\n",
        "print (\":\".join(str1))\n",
        "\n",
        "print (\" \".join([\"banana\",\"grape\"]))\n",
        "print (len(str1.rstrip()))\n"
      ],
      "execution_count": 14,
      "outputs": [
        {
          "output_type": "stream",
          "text": [
            "  This is a bright sunny day\n",
            "This is a bright sunny day   \n",
            "This is a bright sunny day\n",
            " : :T:h:i:s: :i:s: :a: :b:r:i:g:h:t: :s:u:n:n:y: :d:a:y: : : \n",
            "banana grape\n",
            "28\n"
          ],
          "name": "stdout"
        }
      ]
    },
    {
      "cell_type": "code",
      "metadata": {
        "id": "V5fcntOH4XpB",
        "colab_type": "code",
        "colab": {
          "base_uri": "https://localhost:8080/",
          "height": 68
        },
        "outputId": "8eb6d01c-3561-4a86-c920-edd0ad8b5db5"
      },
      "source": [
        "str2 = \"  This         is      a           bright                          sunny         day   \"\n",
        "print (str2.strip())\n",
        "print (str2.strip().split())\n",
        "print (\" \".join(str2.strip().split()))"
      ],
      "execution_count": 27,
      "outputs": [
        {
          "output_type": "stream",
          "text": [
            "This         is      a           bright                          sunny         day\n",
            "['This', 'is', 'a', 'bright', 'sunny', 'day']\n",
            "This is a bright sunny day\n"
          ],
          "name": "stdout"
        }
      ]
    },
    {
      "cell_type": "code",
      "metadata": {
        "id": "5Fo2rioMJzAt",
        "colab_type": "code",
        "colab": {
          "base_uri": "https://localhost:8080/",
          "height": 51
        },
        "outputId": "374dc201-6799-4670-9c81-8f967dc19d72"
      },
      "source": [
        "school = 'ISB'\n",
        "print ('S' in school)\n",
        "print ('Q' in school)"
      ],
      "execution_count": 16,
      "outputs": [
        {
          "output_type": "stream",
          "text": [
            "True\n",
            "False\n"
          ],
          "name": "stdout"
        }
      ]
    },
    {
      "cell_type": "code",
      "metadata": {
        "id": "Iv_XtpiTNta3",
        "colab_type": "code",
        "colab": {
          "base_uri": "https://localhost:8080/",
          "height": 34
        },
        "outputId": "ce54bcff-b82f-498e-ba2c-488e13d00437"
      },
      "source": [
        "#How to get the type of variable\n",
        "x = 'X-DSPAM-Confidance:   0.9932'\n",
        "pos = x.find(':')\n",
        "num=float(x[pos+1:])\n",
        "print (num,type(num))"
      ],
      "execution_count": 29,
      "outputs": [
        {
          "output_type": "stream",
          "text": [
            "0.9932 <class 'float'>\n"
          ],
          "name": "stdout"
        }
      ]
    },
    {
      "cell_type": "code",
      "metadata": {
        "id": "ipllXd2tS_FL",
        "colab_type": "code",
        "colab": {
          "base_uri": "https://localhost:8080/",
          "height": 34
        },
        "outputId": "1fe085cf-fbf4-4d4f-aa48-0f1813d881d2"
      },
      "source": [
        "# Let us do some exercises\n",
        "# Excercise 1\n",
        "# Given below string, get first 10 characters, and last 10 characters.\n",
        "# Now join them to form a new string with an underscore in between\n",
        "strr = 'Hey how are you doing. We are doing good'\n",
        "str1 = strr[:10]\n",
        "str2 = strr[-10:]\n",
        "print(\"_\".join([str1,str2]))"
      ],
      "execution_count": 35,
      "outputs": [
        {
          "output_type": "stream",
          "text": [
            "Hey how ar_doing good\n"
          ],
          "name": "stdout"
        }
      ]
    },
    {
      "cell_type": "code",
      "metadata": {
        "id": "g_pt_b6nUYHA",
        "colab_type": "code",
        "colab": {
          "base_uri": "https://localhost:8080/",
          "height": 34
        },
        "outputId": "70f5e64f-3b5d-40b8-fd7d-a2d35d622f84"
      },
      "source": [
        "#Consider two strings x and y\n",
        "x = 'Confusing'\n",
        "y = 'Strings'\n",
        "#Swap first three characters of each string and join them by an _ Str_Con\n",
        "print (\"_\".join([y[:3],x[:3]]))"
      ],
      "execution_count": 39,
      "outputs": [
        {
          "output_type": "stream",
          "text": [
            "Str_Con\n"
          ],
          "name": "stdout"
        }
      ]
    }
  ]
}