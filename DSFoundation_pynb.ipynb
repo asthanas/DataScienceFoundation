{
  "nbformat": 4,
  "nbformat_minor": 0,
  "metadata": {
    "colab": {
      "name": "DSFoundation.pynb",
      "provenance": [],
      "authorship_tag": "ABX9TyPT+8UrKcbYjvwh/k4FV+NJ",
      "include_colab_link": true
    },
    "kernelspec": {
      "name": "python3",
      "display_name": "Python 3"
    }
  },
  "cells": [
    {
      "cell_type": "markdown",
      "metadata": {
        "id": "view-in-github",
        "colab_type": "text"
      },
      "source": [
        "<a href=\"https://colab.research.google.com/github/asthanas/DataScienceFoundation/blob/master/DSFoundation_pynb.ipynb\" target=\"_parent\"><img src=\"https://colab.research.google.com/assets/colab-badge.svg\" alt=\"Open In Colab\"/></a>"
      ]
    },
    {
      "cell_type": "markdown",
      "metadata": {
        "id": "aLn4OhSNk9yN",
        "colab_type": "text"
      },
      "source": [
        "# **Python Basics  - Data Science foundation**\n",
        "\n"
      ]
    },
    {
      "cell_type": "markdown",
      "metadata": {
        "id": "reNnTandDgtA",
        "colab_type": "text"
      },
      "source": [
        "\n",
        "**IPython notebook**\n",
        "\n",
        "IPython is a software package in Python that serves as a research notebook. IPython has a seamless interface using which you can write notes as well as perform data analysis in the same file. The data analysis part allows you to write the code and run it from within the notebook itself. The results also are displayed in the notebook. Among other things, IPython provides:\n",
        "\n",
        "1. An interactive shell\n",
        "2. Notebook that is browser based. The notebook supports text, code, expressions, graphs and interactive data visualization, embed images and videos, and also links to web pages on the Internet. \n",
        "3. Tools for parallel computing.\n",
        "4. Import external code and run it.\n",
        "5. Export the notebook in a number of formats.\n",
        "\n",
        "**Creating an IPython notebook**\n",
        "\n",
        "In order to create an IPython notebook, choose File -> New -> IPython notebook. \n",
        "\n",
        "Hitting Alt+Enter creates a new cell. A cell is nothing but a placeholder where you can write some text or execute code. \n",
        "To run press Shift+Enter"
      ]
    },
    {
      "cell_type": "markdown",
      "metadata": {
        "id": "nmuO66HdFKvz",
        "colab_type": "text"
      },
      "source": [
        "***Set the working directory so that we dont have to think about path problem***"
      ]
    },
    {
      "cell_type": "code",
      "metadata": {
        "id": "tO3CqN1uFiZO",
        "colab_type": "code",
        "outputId": "db684964-c4cf-4121-82c7-89500bde2822",
        "colab": {
          "base_uri": "https://localhost:8080/",
          "height": 34
        }
      },
      "source": [
        "import os #This is calling a pre-defined library with some standard capabilities which are getting imported\n",
        "os.getcwd() #get the current working directory"
      ],
      "execution_count": 0,
      "outputs": [
        {
          "output_type": "execute_result",
          "data": {
            "text/plain": [
              "'/content'"
            ]
          },
          "metadata": {
            "tags": []
          },
          "execution_count": 1
        }
      ]
    },
    {
      "cell_type": "code",
      "metadata": {
        "id": "fGIUsAmKFxXw",
        "colab_type": "code",
        "colab": {}
      },
      "source": [
        "your_local_path = os.getcwd()"
      ],
      "execution_count": 0,
      "outputs": []
    },
    {
      "cell_type": "code",
      "metadata": {
        "id": "uw1J6yi0mjZn",
        "colab_type": "code",
        "outputId": "c825fe50-fb4c-4d68-ead2-90a2f45c377f",
        "colab": {
          "base_uri": "https://localhost:8080/",
          "height": 34
        }
      },
      "source": [
        "print(\"Hey this is Kaption Cryption\")"
      ],
      "execution_count": 0,
      "outputs": [
        {
          "output_type": "stream",
          "text": [
            "Hey this is Kaption Cryption\n"
          ],
          "name": "stdout"
        }
      ]
    },
    {
      "cell_type": "code",
      "metadata": {
        "id": "HnRAb1fxL_XD",
        "colab_type": "code",
        "outputId": "4ea84abd-0867-4fa0-98ab-a06265d1dad7",
        "colab": {
          "base_uri": "https://localhost:8080/",
          "height": 51
        }
      },
      "source": [
        "print(\"An example of code execution in Python\")\n",
        "22*45"
      ],
      "execution_count": 0,
      "outputs": [
        {
          "output_type": "stream",
          "text": [
            "An example of code execution in Python\n"
          ],
          "name": "stdout"
        },
        {
          "output_type": "execute_result",
          "data": {
            "text/plain": [
              "990"
            ]
          },
          "metadata": {
            "tags": []
          },
          "execution_count": 4
        }
      ]
    },
    {
      "cell_type": "code",
      "metadata": {
        "id": "cZBpdgAtuLq3",
        "colab_type": "code",
        "colab": {}
      },
      "source": [
        "import pandas as pd"
      ],
      "execution_count": 0,
      "outputs": []
    },
    {
      "cell_type": "code",
      "metadata": {
        "id": "qZR3COGwL-Y-",
        "colab_type": "code",
        "colab": {}
      },
      "source": [
        ""
      ],
      "execution_count": 0,
      "outputs": []
    }
  ]
}