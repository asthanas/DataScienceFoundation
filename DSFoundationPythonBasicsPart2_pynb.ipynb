{
  "nbformat": 4,
  "nbformat_minor": 0,
  "metadata": {
    "colab": {
      "name": "DSFoundationPythonBasicsPart2.pynb",
      "provenance": [],
      "collapsed_sections": [],
      "authorship_tag": "ABX9TyOAYFweGfxTcEL2JbQOg/J4",
      "include_colab_link": true
    },
    "kernelspec": {
      "name": "python3",
      "display_name": "Python 3"
    }
  },
  "cells": [
    {
      "cell_type": "markdown",
      "metadata": {
        "id": "view-in-github",
        "colab_type": "text"
      },
      "source": [
        "<a href=\"https://colab.research.google.com/github/asthanas/DataScienceFoundation/blob/master/DSFoundationPythonBasicsPart2_pynb.ipynb\" target=\"_parent\"><img src=\"https://colab.research.google.com/assets/colab-badge.svg\" alt=\"Open In Colab\"/></a>"
      ]
    },
    {
      "cell_type": "markdown",
      "metadata": {
        "id": "cYzqW8JQdXbA",
        "colab_type": "text"
      },
      "source": [
        "**Datetime**\n",
        "\n",
        "Python has a built-in datetime module for working with dates and times. One can create strings from date objects and vice versa.\n",
        "\n",
        "Python offers very powerful and flexible datetime capabilities that are capable of operating at a scale of time measured in nano-seconds. We will look more about date time functionality in Session 3."
      ]
    },
    {
      "cell_type": "code",
      "metadata": {
        "id": "j149u78Gdes7",
        "colab_type": "code",
        "outputId": "1c470c48-f054-4ea9-c95f-85cc08e9ee8b",
        "colab": {
          "base_uri": "https://localhost:8080/",
          "height": 153
        }
      },
      "source": [
        "from datetime import datetime, date, time\n",
        "help(datetime.strptime)\n",
        "date1 = datetime(2014,5,15,14,45,5)\n",
        "\n",
        "print(date1)\n",
        "print(date1.day)\n",
        "print(datetime.strptime('21080516154550','%Y%m%d%H%M%S'))\n",
        "\n",
        "date1 = datetime(2014, 5, 16)\n",
        "date2 = datetime(2014, 5, 19)\n",
        "datediff=date1 - date2\n",
        "\n"
      ],
      "execution_count": 0,
      "outputs": [
        {
          "output_type": "stream",
          "text": [
            "Help on built-in function strptime:\n",
            "\n",
            "strptime(...) method of builtins.type instance\n",
            "    string, format -> new datetime parsed from a string (like time.strptime()).\n",
            "\n",
            "2014-05-15 14:45:05\n",
            "15\n",
            "2108-05-16 15:45:50\n"
          ],
          "name": "stdout"
        }
      ]
    },
    {
      "cell_type": "code",
      "metadata": {
        "id": "Cd9rIea7qzfb",
        "colab_type": "code",
        "colab": {}
      },
      "source": [
        ""
      ],
      "execution_count": 0,
      "outputs": []
    },
    {
      "cell_type": "code",
      "metadata": {
        "id": "E0w0IHJmG431",
        "colab_type": "code",
        "outputId": "9c82c7e3-9f1a-48f0-cda0-66604b144048",
        "colab": {
          "base_uri": "https://localhost:8080/",
          "height": 173
        }
      },
      "source": [
        "a = [ 'abcd', 786 , 2.23, 'ISB', 70.2 , \"UPX\"]\n",
        "b = [1,4,7,2,9,10,11]\n",
        "c = [\"aasda assd asdas\",\"basdasd asdasd\",\"casdas asdas\",\"pasdasd asdasd\"]\n",
        "d = [a, b, c , \"NewElement\",12,12.10]\n",
        "\n",
        "#a[0] -> 'abcd'\n",
        "#b[0] -> 1\n",
        "#c[0] -> \"a\"\n",
        "#d[0] -> [ 'abcd', 786 , 2.23, 'ISB', 70.2 , \"UPX\"]\n",
        "\n",
        "tinylist = [123, 'ISB']\n",
        "\n",
        "print (d)            # Prints complete list\n",
        "print (d[0])         # Prints first element of the list\n",
        "print (d[1:3])       # Prints elements starting from 2nd till 3rd # 1:3 > get 1, 2 and not 3 \n",
        "print (d[2:])        # Prints elements starting from 3rd element # 2: get everything after 2 including 2 \n",
        "print (b* 2)     # Prints list two times # it doesn't mean that each value gets multiplied by 2 \n",
        "print (a + b) # Prints concatenated lists\n",
        "print (len(d))\n",
        "d[0][1]"
      ],
      "execution_count": 0,
      "outputs": [
        {
          "output_type": "stream",
          "text": [
            "[['abcd', 786, 2.23, 'ISB', 70.2, 'UPX'], [1, 4, 7, 2, 9, 10, 11], ['aasda assd asdas', 'basdasd asdasd', 'casdas asdas', 'pasdasd asdasd'], 'NewElement', 12, 12.1]\n",
            "['abcd', 786, 2.23, 'ISB', 70.2, 'UPX']\n",
            "[[1, 4, 7, 2, 9, 10, 11], ['aasda assd asdas', 'basdasd asdasd', 'casdas asdas', 'pasdasd asdasd']]\n",
            "[['aasda assd asdas', 'basdasd asdasd', 'casdas asdas', 'pasdasd asdasd'], 'NewElement', 12, 12.1]\n",
            "[1, 4, 7, 2, 9, 10, 11, 1, 4, 7, 2, 9, 10, 11]\n",
            "['abcd', 786, 2.23, 'ISB', 70.2, 'UPX', 1, 4, 7, 2, 9, 10, 11]\n",
            "6\n"
          ],
          "name": "stdout"
        },
        {
          "output_type": "execute_result",
          "data": {
            "text/plain": [
              "786"
            ]
          },
          "metadata": {
            "tags": []
          },
          "execution_count": 1
        }
      ]
    },
    {
      "cell_type": "code",
      "metadata": {
        "id": "WbAxjnTOvnJS",
        "colab_type": "code",
        "outputId": "e2aaff57-b90f-4a1b-91ca-312d8e0a81aa",
        "colab": {
          "base_uri": "https://localhost:8080/",
          "height": 34
        }
      },
      "source": [
        "d[0][1]\n"
      ],
      "execution_count": 0,
      "outputs": [
        {
          "output_type": "execute_result",
          "data": {
            "text/plain": [
              "786"
            ]
          },
          "metadata": {
            "tags": []
          },
          "execution_count": 4
        }
      ]
    },
    {
      "cell_type": "code",
      "metadata": {
        "id": "Nfh87Gco5XL4",
        "colab_type": "code",
        "outputId": "7c4223f0-0733-40ed-813a-a1656f06865e",
        "colab": {
          "base_uri": "https://localhost:8080/",
          "height": 34
        }
      },
      "source": [
        "len(c[1])"
      ],
      "execution_count": 0,
      "outputs": [
        {
          "output_type": "execute_result",
          "data": {
            "text/plain": [
              "14"
            ]
          },
          "metadata": {
            "tags": []
          },
          "execution_count": 5
        }
      ]
    },
    {
      "cell_type": "code",
      "metadata": {
        "id": "U887GO1i6Da_",
        "colab_type": "code",
        "outputId": "278b2ea5-1dfe-4c95-c399-3dcb478b5fcc",
        "colab": {
          "base_uri": "https://localhost:8080/",
          "height": 34
        }
      },
      "source": [
        "len(c[0].split())"
      ],
      "execution_count": 0,
      "outputs": [
        {
          "output_type": "execute_result",
          "data": {
            "text/plain": [
              "3"
            ]
          },
          "metadata": {
            "tags": []
          },
          "execution_count": 6
        }
      ]
    },
    {
      "cell_type": "code",
      "metadata": {
        "id": "djlrGyny9B84",
        "colab_type": "code",
        "outputId": "758769a1-319d-4b9c-e909-c21d81a5bf3d",
        "colab": {
          "base_uri": "https://localhost:8080/",
          "height": 34
        }
      },
      "source": [
        "len(d[0]+d[1]+d[2])"
      ],
      "execution_count": 0,
      "outputs": [
        {
          "output_type": "execute_result",
          "data": {
            "text/plain": [
              "17"
            ]
          },
          "metadata": {
            "tags": []
          },
          "execution_count": 7
        }
      ]
    },
    {
      "cell_type": "code",
      "metadata": {
        "id": "pIOwYoqsaNqK",
        "colab_type": "code",
        "outputId": "d798b09e-aad6-4c38-a748-cf0cd6ca60f9",
        "colab": {
          "base_uri": "https://localhost:8080/",
          "height": 34
        }
      },
      "source": [
        "c[0] = [1,2,2,3,3,4,5]\n",
        "c"
      ],
      "execution_count": 0,
      "outputs": [
        {
          "output_type": "execute_result",
          "data": {
            "text/plain": [
              "[[1, 2, 2, 3, 3, 4, 5], 'basdasd asdasd', 'casdas asdas', 'pasdasd asdasd']"
            ]
          },
          "metadata": {
            "tags": []
          },
          "execution_count": 9
        }
      ]
    },
    {
      "cell_type": "code",
      "metadata": {
        "id": "yOPeuBFqaWHZ",
        "colab_type": "code",
        "colab": {}
      },
      "source": [
        "c.append(\"XOXO\")"
      ],
      "execution_count": 0,
      "outputs": []
    },
    {
      "cell_type": "code",
      "metadata": {
        "id": "fTZ-H3Sbadbv",
        "colab_type": "code",
        "outputId": "44dec72c-d0e6-4bd6-8257-06b3bff29a25",
        "colab": {
          "base_uri": "https://localhost:8080/",
          "height": 119
        }
      },
      "source": [
        "c"
      ],
      "execution_count": 0,
      "outputs": [
        {
          "output_type": "execute_result",
          "data": {
            "text/plain": [
              "[[1, 2, 2, 3, 3, 4, 5],\n",
              " 'basdasd asdasd',\n",
              " 'casdas asdas',\n",
              " 'pasdasd asdasd',\n",
              " 'XOXO',\n",
              " 'XOXO']"
            ]
          },
          "metadata": {
            "tags": []
          },
          "execution_count": 12
        }
      ]
    },
    {
      "cell_type": "code",
      "metadata": {
        "id": "nU1Tkh9YaiNm",
        "colab_type": "code",
        "outputId": "78989bea-cd54-4021-a949-419b4fc8fb04",
        "colab": {
          "base_uri": "https://localhost:8080/",
          "height": 34
        }
      },
      "source": [
        "type(d[5])"
      ],
      "execution_count": 0,
      "outputs": [
        {
          "output_type": "execute_result",
          "data": {
            "text/plain": [
              "float"
            ]
          },
          "metadata": {
            "tags": []
          },
          "execution_count": 13
        }
      ]
    },
    {
      "cell_type": "code",
      "metadata": {
        "id": "1i40Ka1Qanzb",
        "colab_type": "code",
        "outputId": "5b690aa5-7a6e-4292-f4dc-581d7c1a5aae",
        "colab": {
          "base_uri": "https://localhost:8080/",
          "height": 34
        }
      },
      "source": [
        "alist = ['abcd',786,2.23,'ISB',70.2]\n",
        "blist = alist\n",
        "alist = alist * 2\n",
        "print(alist)\n"
      ],
      "execution_count": 0,
      "outputs": [
        {
          "output_type": "stream",
          "text": [
            "['abcd', 786, 2.23, 'ISB', 70.2, 'abcd', 786, 2.23, 'ISB', 70.2]\n"
          ],
          "name": "stdout"
        }
      ]
    },
    {
      "cell_type": "code",
      "metadata": {
        "id": "2VwwJs-vbGWH",
        "colab_type": "code",
        "outputId": "9ed4f24b-256d-42c1-f590-372f0555f443",
        "colab": {
          "base_uri": "https://localhost:8080/",
          "height": 34
        }
      },
      "source": [
        "print(blist)"
      ],
      "execution_count": 0,
      "outputs": [
        {
          "output_type": "stream",
          "text": [
            "['abcd', 786, 2.23, 'ISB', 70.2]\n"
          ],
          "name": "stdout"
        }
      ]
    },
    {
      "cell_type": "code",
      "metadata": {
        "id": "t2a60A9HbKOw",
        "colab_type": "code",
        "outputId": "2b8ed1fb-13df-43e0-e599-c3cb70a00287",
        "colab": {
          "base_uri": "https://localhost:8080/",
          "height": 34
        }
      },
      "source": [
        "blist = alist\n",
        "print(blist)"
      ],
      "execution_count": 0,
      "outputs": [
        {
          "output_type": "stream",
          "text": [
            "['abcd', 786, 2.23, 'ISB', 70.2, 'abcd', 786, 2.23, 'ISB', 70.2]\n"
          ],
          "name": "stdout"
        }
      ]
    },
    {
      "cell_type": "code",
      "metadata": {
        "id": "0RVFsQovgYfY",
        "colab_type": "code",
        "outputId": "5bc8e194-64fb-4890-ed8a-2f793d982ab8",
        "colab": {
          "base_uri": "https://localhost:8080/",
          "height": 68
        }
      },
      "source": [
        "list_ = ['Ajay','Vijay','Ramesh','Guy1','Guy2']\n",
        "list_.append(\"Saurabh\")   # add elemet to my list_ , it always adds at the last index \n",
        "list_.insert(2,\"Viraj\")   # Add element at a purticular postion\n",
        "list_.extend(['Guy3','Guy4']) # Add elements at the end\n",
        "print(list_)\n",
        "print(list_.index('Viraj')) # Index of any element\n",
        "list_.remove('Guy3') # remove element by name\n",
        "list_.pop(1) # remove element by position\n",
        "print(list_)"
      ],
      "execution_count": 0,
      "outputs": [
        {
          "output_type": "stream",
          "text": [
            "['Ajay', 'Vijay', 'Viraj', 'Ramesh', 'Guy1', 'Guy2', 'Saurabh', 'Guy3', 'Guy4']\n",
            "2\n",
            "['Ajay', 'Viraj', 'Ramesh', 'Guy1', 'Guy2', 'Saurabh', 'Guy4']\n"
          ],
          "name": "stdout"
        }
      ]
    },
    {
      "cell_type": "code",
      "metadata": {
        "id": "KUZeIee3d1rh",
        "colab_type": "code",
        "outputId": "ed0207c3-93d2-48ec-98ca-74a97ed86bb8",
        "colab": {
          "base_uri": "https://localhost:8080/",
          "height": 85
        }
      },
      "source": [
        "#sorting\n",
        "numberlist = [1, 5, 23, 1 ,54,2, 54,23, 54,76, 76,34,87]\n",
        "numberlist.sort()\n",
        "print (numberlist)\n",
        "print (len(numberlist))\n",
        "print (max(numberlist))\n",
        "print (min(numberlist))"
      ],
      "execution_count": 0,
      "outputs": [
        {
          "output_type": "stream",
          "text": [
            "[1, 1, 2, 5, 23, 23, 34, 54, 54, 54, 76, 76, 87]\n",
            "13\n",
            "87\n",
            "1\n"
          ],
          "name": "stdout"
        }
      ]
    },
    {
      "cell_type": "code",
      "metadata": {
        "id": "fw0Z45I1eq09",
        "colab_type": "code",
        "outputId": "0e77897f-d79e-42f5-d40c-62f951dd7356",
        "colab": {
          "base_uri": "https://localhost:8080/",
          "height": 51
        }
      },
      "source": [
        "string = ['abcd', 'efg', 'hijk', 'lmn']\n",
        "print(string)\n",
        "print(sorted(string, key=len))"
      ],
      "execution_count": 0,
      "outputs": [
        {
          "output_type": "stream",
          "text": [
            "['abcd', 'efg', 'hijk', 'lmn']\n",
            "['efg', 'lmn', 'abcd', 'hijk']\n"
          ],
          "name": "stdout"
        }
      ]
    },
    {
      "cell_type": "code",
      "metadata": {
        "id": "ib5Q18inwIFd",
        "colab_type": "code",
        "outputId": "d6971f78-034c-4d56-b6b1-e3e6cbfe2c9f",
        "colab": {
          "base_uri": "https://localhost:8080/",
          "height": 34
        }
      },
      "source": [
        "#You can even pass your own function\n",
        "mylist = ['abcg', 'eff', 'hijd', 'lmi']\n",
        "\n",
        "def func1(input):\n",
        "    return input[-1]\n",
        "\n",
        "print (sorted(mylist, key=func1))\n"
      ],
      "execution_count": 0,
      "outputs": [
        {
          "output_type": "stream",
          "text": [
            "['hijd', 'eff', 'abcg', 'lmi']\n"
          ],
          "name": "stdout"
        }
      ]
    },
    {
      "cell_type": "markdown",
      "metadata": {
        "id": "LBeWlU8IzZq4",
        "colab_type": "text"
      },
      "source": [
        "**Dictionary**\n",
        "\n",
        "One of the most important built-in data structure.\n",
        "Python's dictionaries are kind of hash tables.\n",
        "They work like associative arrays and consist of key-value pairs.\n",
        "A dictionary key can be almost any Python type, but are usually numbers or strings.\n",
        "Values, on the other hand, can be any arbitrary Python object.\n",
        "Dictionaries are enclosed by curly braces **( { } )** and values can be assigned and accessed using square braces **( [] )**."
      ]
    },
    {
      "cell_type": "code",
      "metadata": {
        "id": "sfUp-Z7ZzGLJ",
        "colab_type": "code",
        "outputId": "50d407c6-1b30-4d95-a3e9-a3289513002d",
        "colab": {
          "base_uri": "https://localhost:8080/",
          "height": 102
        }
      },
      "source": [
        "dict = {}\n",
        "dict['one'] = \"This is one\"\n",
        "dict[2] = \"This is two\"\n",
        "tinydict = {'name': 'isb','code':6734,'dept':'sales'}\n",
        "\n",
        "print (dict['one'])\n",
        "print (dict[2])\n",
        "print (tinydict)\n",
        "print (tinydict.keys())\n",
        "print (tinydict.values())"
      ],
      "execution_count": 0,
      "outputs": [
        {
          "output_type": "stream",
          "text": [
            "This is one\n",
            "This is two\n",
            "{'name': 'isb', 'code': 6734, 'dept': 'sales'}\n",
            "dict_keys(['name', 'code', 'dept'])\n",
            "dict_values(['isb', 6734, 'sales'])\n"
          ],
          "name": "stdout"
        }
      ]
    },
    {
      "cell_type": "code",
      "metadata": {
        "id": "QdcST5V5_DNx",
        "colab_type": "code",
        "outputId": "a7268680-692e-418a-8f3a-6031e3f14d54",
        "colab": {
          "base_uri": "https://localhost:8080/",
          "height": 51
        }
      },
      "source": [
        "d = {}\n",
        "print (type(d))\n",
        "\n",
        "d['ID'] = 121212\n",
        "print(d)\n",
        "\n"
      ],
      "execution_count": 0,
      "outputs": [
        {
          "output_type": "stream",
          "text": [
            "<class 'dict'>\n",
            "{'ID': 121212}\n"
          ],
          "name": "stdout"
        }
      ]
    },
    {
      "cell_type": "code",
      "metadata": {
        "id": "4m7a5sMA_XFG",
        "colab_type": "code",
        "colab": {}
      },
      "source": [
        "121212 : {\n",
        "    Name : \"Saurabh\"\n",
        "    Desig : \"Data Scienist\"\n",
        "    Company : \"Infosys\"\n",
        "    Add : [\"Address1\",\"Address2\"]\n",
        "    Code : 121212\n",
        "    Location : (\"GGN\",\"HYD\")\n",
        "    DOJ : 19-Oct-2015\n",
        "}\n",
        "\n"
      ],
      "execution_count": 0,
      "outputs": []
    },
    {
      "cell_type": "code",
      "metadata": {
        "id": "OC5Q-zDQA3nH",
        "colab_type": "code",
        "outputId": "4898b292-e59a-48ab-ab8f-9d48acf3ea03",
        "colab": {
          "base_uri": "https://localhost:8080/",
          "height": 68
        }
      },
      "source": [
        "d = {}\n",
        "d[121212] = \"Saurabh\"\n",
        "print(d)\n",
        "print(d.keys())\n",
        "print(d.values())"
      ],
      "execution_count": 0,
      "outputs": [
        {
          "output_type": "stream",
          "text": [
            "{121212: 'Saurabh'}\n",
            "dict_keys([121212])\n",
            "dict_values(['Saurabh'])\n"
          ],
          "name": "stdout"
        }
      ]
    },
    {
      "cell_type": "code",
      "metadata": {
        "id": "K0jA5IKkdtXV",
        "colab_type": "code",
        "outputId": "069f8ef4-05c9-4e34-82bf-5ac7dd038f7a",
        "colab": {
          "base_uri": "https://localhost:8080/",
          "height": 85
        }
      },
      "source": [
        "a = (1,2,3,[1,2,3])\n",
        "b = (1,2,[1,2])\n",
        "print(type(a))\n",
        "print(type(b))\n",
        "\n",
        "a[3].append(10)\n",
        "print(a)\n",
        "\n",
        "c = (1,2)\n",
        "c = (1,2,4)\n",
        "\n",
        "# Tuples are moslty used as a return of a function \n",
        "c = list(a)\n",
        "c.append(\"Name\")\n",
        "\n",
        "print (c)"
      ],
      "execution_count": 0,
      "outputs": [
        {
          "output_type": "stream",
          "text": [
            "<class 'tuple'>\n",
            "<class 'tuple'>\n",
            "(1, 2, 3, [1, 2, 3, 10])\n",
            "[1, 2, 3, [1, 2, 3, 10], 'Name']\n"
          ],
          "name": "stdout"
        }
      ]
    },
    {
      "cell_type": "markdown",
      "metadata": {
        "id": "bhYyDPMKR2is",
        "colab_type": "text"
      },
      "source": [
        "**Dictionary**\n",
        "\n",
        "One of the most important built-in data structure.\n",
        "Python's dictionaries are kind of hash tables.\n",
        "They work like associative arrays and consist of key-value pairs.\n",
        "A dictionary key can be almost any Python type, but are usually numbers or strings.\n",
        "Values, on the other hand, can be any arbitrary Python object.\n",
        "Dictionaries are enclosed by curly braces **( { } )** and values can be assigned and accessed using square braces** ( [] )**."
      ]
    },
    {
      "cell_type": "code",
      "metadata": {
        "id": "I7JilJ-8RuDt",
        "colab_type": "code",
        "outputId": "d05da450-3d96-415f-aefd-16794066d9bc",
        "colab": {
          "base_uri": "https://localhost:8080/",
          "height": 51
        }
      },
      "source": [
        "d = {}\n",
        "print(type(d))\n",
        "d['ID'] = 121212\n",
        "print (d)"
      ],
      "execution_count": 0,
      "outputs": [
        {
          "output_type": "stream",
          "text": [
            "<class 'dict'>\n",
            "{'ID': 121212}\n"
          ],
          "name": "stdout"
        }
      ]
    },
    {
      "cell_type": "code",
      "metadata": {
        "id": "969DZAIJ9eQJ",
        "colab_type": "code",
        "colab": {
          "base_uri": "https://localhost:8080/",
          "height": 54
        },
        "outputId": "13689280-20bc-4695-b94e-5186402f876f"
      },
      "source": [
        "d = {}\n",
        "d[121212] = {}\n",
        "d[121212]['Name'] = \"Saurabh\"\n",
        "d[121212]['Desig'] = \"Analyst\"\n",
        "d[121212]['Company'] = \"Infosys\"\n",
        "d[121212]['Add'] = [\"Address1\",\"Address2\"]\n",
        "d[121212]['Location'] = [\"GGN\",\"HYD\"]\n",
        "d[121212]['Phone'] = [98989898,89898989]\n",
        "d[121212]['DOJ']=\"19-OCT-2015\"\n",
        "print(d)"
      ],
      "execution_count": 4,
      "outputs": [
        {
          "output_type": "stream",
          "text": [
            "{121212: {'Name': 'Saurabh', 'Desig': 'Analyst', 'Company': 'Infosys', 'Add': ['Address1', 'Address2'], 'Location': ['GGN', 'HYD'], 'Phone': [98989898, 89898989], 'DOJ': '19-OCT-2015'}}\n"
          ],
          "name": "stdout"
        }
      ]
    }
  ]
}