{
  "nbformat": 4,
  "nbformat_minor": 0,
  "metadata": {
    "colab": {
      "name": "DSFoundationPythonBasicsPart2.pynb",
      "provenance": [],
      "authorship_tag": "ABX9TyNPjsL4yGCw/G2sbcTCShDZ",
      "include_colab_link": true
    },
    "kernelspec": {
      "name": "python3",
      "display_name": "Python 3"
    }
  },
  "cells": [
    {
      "cell_type": "markdown",
      "metadata": {
        "id": "view-in-github",
        "colab_type": "text"
      },
      "source": [
        "<a href=\"https://colab.research.google.com/github/asthanas/DataScienceFoundation/blob/master/DSFoundationPythonBasicsPart2_pynb.ipynb\" target=\"_parent\"><img src=\"https://colab.research.google.com/assets/colab-badge.svg\" alt=\"Open In Colab\"/></a>"
      ]
    },
    {
      "cell_type": "markdown",
      "metadata": {
        "id": "cYzqW8JQdXbA",
        "colab_type": "text"
      },
      "source": [
        "**Datetime**\n",
        "\n",
        "Python has a built-in datetime module for working with dates and times. One can create strings from date objects and vice versa.\n",
        "\n",
        "Python offers very powerful and flexible datetime capabilities that are capable of operating at a scale of time measured in nano-seconds. We will look more about date time functionality in Session 3."
      ]
    },
    {
      "cell_type": "code",
      "metadata": {
        "id": "j149u78Gdes7",
        "colab_type": "code",
        "colab": {
          "base_uri": "https://localhost:8080/",
          "height": 153
        },
        "outputId": "1c470c48-f054-4ea9-c95f-85cc08e9ee8b"
      },
      "source": [
        "from datetime import datetime, date, time\n",
        "help(datetime.strptime)\n",
        "date1 = datetime(2014,5,15,14,45,5)\n",
        "\n",
        "print(date1)\n",
        "print(date1.day)\n",
        "print(datetime.strptime('21080516154550','%Y%m%d%H%M%S'))\n",
        "\n",
        "date1 = datetime(2014, 5, 16)\n",
        "date2 = datetime(2014, 5, 19)\n",
        "datediff=date1 - date2\n",
        "\n"
      ],
      "execution_count": 4,
      "outputs": [
        {
          "output_type": "stream",
          "text": [
            "Help on built-in function strptime:\n",
            "\n",
            "strptime(...) method of builtins.type instance\n",
            "    string, format -> new datetime parsed from a string (like time.strptime()).\n",
            "\n",
            "2014-05-15 14:45:05\n",
            "15\n",
            "2108-05-16 15:45:50\n"
          ],
          "name": "stdout"
        }
      ]
    },
    {
      "cell_type": "code",
      "metadata": {
        "id": "Cd9rIea7qzfb",
        "colab_type": "code",
        "colab": {}
      },
      "source": [
        ""
      ],
      "execution_count": 0,
      "outputs": []
    },
    {
      "cell_type": "code",
      "metadata": {
        "id": "E0w0IHJmG431",
        "colab_type": "code",
        "outputId": "9c82c7e3-9f1a-48f0-cda0-66604b144048",
        "colab": {
          "base_uri": "https://localhost:8080/",
          "height": 173
        }
      },
      "source": [
        "a = [ 'abcd', 786 , 2.23, 'ISB', 70.2 , \"UPX\"]\n",
        "b = [1,4,7,2,9,10,11]\n",
        "c = [\"aasda assd asdas\",\"basdasd asdasd\",\"casdas asdas\",\"pasdasd asdasd\"]\n",
        "d = [a, b, c , \"NewElement\",12,12.10]\n",
        "\n",
        "#a[0] -> 'abcd'\n",
        "#b[0] -> 1\n",
        "#c[0] -> \"a\"\n",
        "#d[0] -> [ 'abcd', 786 , 2.23, 'ISB', 70.2 , \"UPX\"]\n",
        "\n",
        "tinylist = [123, 'ISB']\n",
        "\n",
        "print (d)            # Prints complete list\n",
        "print (d[0])         # Prints first element of the list\n",
        "print (d[1:3])       # Prints elements starting from 2nd till 3rd # 1:3 > get 1, 2 and not 3 \n",
        "print (d[2:])        # Prints elements starting from 3rd element # 2: get everything after 2 including 2 \n",
        "print (b* 2)     # Prints list two times # it doesn't mean that each value gets multiplied by 2 \n",
        "print (a + b) # Prints concatenated lists\n",
        "print (len(d))\n",
        "d[0][1]"
      ],
      "execution_count": 1,
      "outputs": [
        {
          "output_type": "stream",
          "text": [
            "[['abcd', 786, 2.23, 'ISB', 70.2, 'UPX'], [1, 4, 7, 2, 9, 10, 11], ['aasda assd asdas', 'basdasd asdasd', 'casdas asdas', 'pasdasd asdasd'], 'NewElement', 12, 12.1]\n",
            "['abcd', 786, 2.23, 'ISB', 70.2, 'UPX']\n",
            "[[1, 4, 7, 2, 9, 10, 11], ['aasda assd asdas', 'basdasd asdasd', 'casdas asdas', 'pasdasd asdasd']]\n",
            "[['aasda assd asdas', 'basdasd asdasd', 'casdas asdas', 'pasdasd asdasd'], 'NewElement', 12, 12.1]\n",
            "[1, 4, 7, 2, 9, 10, 11, 1, 4, 7, 2, 9, 10, 11]\n",
            "['abcd', 786, 2.23, 'ISB', 70.2, 'UPX', 1, 4, 7, 2, 9, 10, 11]\n",
            "6\n"
          ],
          "name": "stdout"
        },
        {
          "output_type": "execute_result",
          "data": {
            "text/plain": [
              "786"
            ]
          },
          "metadata": {
            "tags": []
          },
          "execution_count": 1
        }
      ]
    },
    {
      "cell_type": "code",
      "metadata": {
        "id": "WbAxjnTOvnJS",
        "colab_type": "code",
        "colab": {
          "base_uri": "https://localhost:8080/",
          "height": 34
        },
        "outputId": "e2aaff57-b90f-4a1b-91ca-312d8e0a81aa"
      },
      "source": [
        "d[0][1]\n"
      ],
      "execution_count": 4,
      "outputs": [
        {
          "output_type": "execute_result",
          "data": {
            "text/plain": [
              "786"
            ]
          },
          "metadata": {
            "tags": []
          },
          "execution_count": 4
        }
      ]
    },
    {
      "cell_type": "code",
      "metadata": {
        "id": "Nfh87Gco5XL4",
        "colab_type": "code",
        "colab": {
          "base_uri": "https://localhost:8080/",
          "height": 34
        },
        "outputId": "7c4223f0-0733-40ed-813a-a1656f06865e"
      },
      "source": [
        "len(c[1])"
      ],
      "execution_count": 5,
      "outputs": [
        {
          "output_type": "execute_result",
          "data": {
            "text/plain": [
              "14"
            ]
          },
          "metadata": {
            "tags": []
          },
          "execution_count": 5
        }
      ]
    },
    {
      "cell_type": "code",
      "metadata": {
        "id": "U887GO1i6Da_",
        "colab_type": "code",
        "colab": {
          "base_uri": "https://localhost:8080/",
          "height": 34
        },
        "outputId": "278b2ea5-1dfe-4c95-c399-3dcb478b5fcc"
      },
      "source": [
        "len(c[0].split())"
      ],
      "execution_count": 6,
      "outputs": [
        {
          "output_type": "execute_result",
          "data": {
            "text/plain": [
              "3"
            ]
          },
          "metadata": {
            "tags": []
          },
          "execution_count": 6
        }
      ]
    },
    {
      "cell_type": "code",
      "metadata": {
        "id": "djlrGyny9B84",
        "colab_type": "code",
        "colab": {
          "base_uri": "https://localhost:8080/",
          "height": 34
        },
        "outputId": "758769a1-319d-4b9c-e909-c21d81a5bf3d"
      },
      "source": [
        "len(d[0]+d[1]+d[2])"
      ],
      "execution_count": 7,
      "outputs": [
        {
          "output_type": "execute_result",
          "data": {
            "text/plain": [
              "17"
            ]
          },
          "metadata": {
            "tags": []
          },
          "execution_count": 7
        }
      ]
    },
    {
      "cell_type": "code",
      "metadata": {
        "id": "pIOwYoqsaNqK",
        "colab_type": "code",
        "colab": {
          "base_uri": "https://localhost:8080/",
          "height": 34
        },
        "outputId": "d798b09e-aad6-4c38-a748-cf0cd6ca60f9"
      },
      "source": [
        "c[0] = [1,2,2,3,3,4,5]\n",
        "c"
      ],
      "execution_count": 9,
      "outputs": [
        {
          "output_type": "execute_result",
          "data": {
            "text/plain": [
              "[[1, 2, 2, 3, 3, 4, 5], 'basdasd asdasd', 'casdas asdas', 'pasdasd asdasd']"
            ]
          },
          "metadata": {
            "tags": []
          },
          "execution_count": 9
        }
      ]
    },
    {
      "cell_type": "code",
      "metadata": {
        "id": "yOPeuBFqaWHZ",
        "colab_type": "code",
        "colab": {}
      },
      "source": [
        "c.append(\"XOXO\")"
      ],
      "execution_count": 0,
      "outputs": []
    },
    {
      "cell_type": "code",
      "metadata": {
        "id": "fTZ-H3Sbadbv",
        "colab_type": "code",
        "colab": {
          "base_uri": "https://localhost:8080/",
          "height": 119
        },
        "outputId": "44dec72c-d0e6-4bd6-8257-06b3bff29a25"
      },
      "source": [
        "c"
      ],
      "execution_count": 12,
      "outputs": [
        {
          "output_type": "execute_result",
          "data": {
            "text/plain": [
              "[[1, 2, 2, 3, 3, 4, 5],\n",
              " 'basdasd asdasd',\n",
              " 'casdas asdas',\n",
              " 'pasdasd asdasd',\n",
              " 'XOXO',\n",
              " 'XOXO']"
            ]
          },
          "metadata": {
            "tags": []
          },
          "execution_count": 12
        }
      ]
    },
    {
      "cell_type": "code",
      "metadata": {
        "id": "nU1Tkh9YaiNm",
        "colab_type": "code",
        "colab": {
          "base_uri": "https://localhost:8080/",
          "height": 34
        },
        "outputId": "78989bea-cd54-4021-a949-419b4fc8fb04"
      },
      "source": [
        "type(d[5])"
      ],
      "execution_count": 13,
      "outputs": [
        {
          "output_type": "execute_result",
          "data": {
            "text/plain": [
              "float"
            ]
          },
          "metadata": {
            "tags": []
          },
          "execution_count": 13
        }
      ]
    },
    {
      "cell_type": "code",
      "metadata": {
        "id": "1i40Ka1Qanzb",
        "colab_type": "code",
        "colab": {
          "base_uri": "https://localhost:8080/",
          "height": 34
        },
        "outputId": "5b690aa5-7a6e-4292-f4dc-581d7c1a5aae"
      },
      "source": [
        "alist = ['abcd',786,2.23,'ISB',70.2]\n",
        "blist = alist\n",
        "alist = alist * 2\n",
        "print(alist)\n"
      ],
      "execution_count": 19,
      "outputs": [
        {
          "output_type": "stream",
          "text": [
            "['abcd', 786, 2.23, 'ISB', 70.2, 'abcd', 786, 2.23, 'ISB', 70.2]\n"
          ],
          "name": "stdout"
        }
      ]
    },
    {
      "cell_type": "code",
      "metadata": {
        "id": "2VwwJs-vbGWH",
        "colab_type": "code",
        "colab": {
          "base_uri": "https://localhost:8080/",
          "height": 34
        },
        "outputId": "9ed4f24b-256d-42c1-f590-372f0555f443"
      },
      "source": [
        "print(blist)"
      ],
      "execution_count": 20,
      "outputs": [
        {
          "output_type": "stream",
          "text": [
            "['abcd', 786, 2.23, 'ISB', 70.2]\n"
          ],
          "name": "stdout"
        }
      ]
    },
    {
      "cell_type": "code",
      "metadata": {
        "id": "t2a60A9HbKOw",
        "colab_type": "code",
        "colab": {
          "base_uri": "https://localhost:8080/",
          "height": 34
        },
        "outputId": "2b8ed1fb-13df-43e0-e599-c3cb70a00287"
      },
      "source": [
        "blist = alist\n",
        "print(blist)"
      ],
      "execution_count": 22,
      "outputs": [
        {
          "output_type": "stream",
          "text": [
            "['abcd', 786, 2.23, 'ISB', 70.2, 'abcd', 786, 2.23, 'ISB', 70.2]\n"
          ],
          "name": "stdout"
        }
      ]
    }
  ]
}