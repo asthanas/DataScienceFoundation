{
  "nbformat": 4,
  "nbformat_minor": 0,
  "metadata": {
    "colab": {
      "name": "inferential_Stat.ipynb",
      "provenance": [],
      "collapsed_sections": [],
      "authorship_tag": "ABX9TyOpY3hdtemHrmWmIfS7hmG4",
      "include_colab_link": true
    },
    "kernelspec": {
      "name": "python3",
      "display_name": "Python 3"
    }
  },
  "cells": [
    {
      "cell_type": "markdown",
      "metadata": {
        "id": "view-in-github",
        "colab_type": "text"
      },
      "source": [
        "<a href=\"https://colab.research.google.com/github/asthanas/DataScienceFoundation/blob/master/inferential_Stat.ipynb\" target=\"_parent\"><img src=\"https://colab.research.google.com/assets/colab-badge.svg\" alt=\"Open In Colab\"/></a>"
      ]
    },
    {
      "cell_type": "code",
      "metadata": {
        "id": "Pm7A7xCT4auO",
        "colab_type": "code",
        "colab": {
          "base_uri": "https://localhost:8080/",
          "height": 34
        },
        "outputId": "3447d6d3-506a-4c77-c537-dc225ef91550"
      },
      "source": [
        "list(range(5,30,2))"
      ],
      "execution_count": 1,
      "outputs": [
        {
          "output_type": "execute_result",
          "data": {
            "text/plain": [
              "[5, 7, 9, 11, 13, 15, 17, 19, 21, 23, 25, 27, 29]"
            ]
          },
          "metadata": {
            "tags": []
          },
          "execution_count": 1
        }
      ]
    },
    {
      "cell_type": "code",
      "metadata": {
        "id": "EF552NQD6yo5",
        "colab_type": "code",
        "colab": {}
      },
      "source": [
        "import numpy as np\n"
      ],
      "execution_count": 3,
      "outputs": []
    },
    {
      "cell_type": "code",
      "metadata": {
        "id": "ffbUHoaO5CUr",
        "colab_type": "code",
        "colab": {
          "base_uri": "https://localhost:8080/",
          "height": 34
        },
        "outputId": "ecafc97d-1276-41ba-d338-52f87e460b71"
      },
      "source": [
        "dss_exp_generated = np.random.choice(list(range(0,25)),size = 100,replace=True)\n",
        "from collections import Counter\n",
        "c=Counter(dss_exp_generated)\n",
        "print(c)\n"
      ],
      "execution_count": 7,
      "outputs": [
        {
          "output_type": "stream",
          "text": [
            "Counter({10: 10, 6: 8, 12: 7, 22: 6, 7: 6, 4: 5, 3: 5, 15: 5, 24: 4, 13: 4, 9: 4, 19: 4, 21: 4, 18: 3, 16: 3, 17: 3, 11: 3, 23: 3, 2: 3, 20: 2, 14: 2, 0: 2, 5: 2, 8: 2})\n"
          ],
          "name": "stdout"
        }
      ]
    },
    {
      "cell_type": "code",
      "metadata": {
        "id": "q1IwP8bA71_P",
        "colab_type": "code",
        "colab": {
          "base_uri": "https://localhost:8080/",
          "height": 34
        },
        "outputId": "6534649d-239a-45ca-c2f5-41f12db50a78"
      },
      "source": [
        "from collections import Counter\n",
        "c=Counter(dss_exp_generated)\n",
        "print(c)"
      ],
      "execution_count": 8,
      "outputs": [
        {
          "output_type": "stream",
          "text": [
            "Counter({10: 10, 6: 8, 12: 7, 22: 6, 7: 6, 4: 5, 3: 5, 15: 5, 24: 4, 13: 4, 9: 4, 19: 4, 21: 4, 18: 3, 16: 3, 17: 3, 11: 3, 23: 3, 2: 3, 20: 2, 14: 2, 0: 2, 5: 2, 8: 2})\n"
          ],
          "name": "stdout"
        }
      ]
    }
  ]
}